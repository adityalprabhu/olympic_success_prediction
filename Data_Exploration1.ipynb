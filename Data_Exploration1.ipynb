{
 "cells": [
  {
   "cell_type": "code",
   "execution_count": 45,
   "metadata": {},
   "outputs": [],
   "source": [
    "import numpy as np\n",
    "import pandas as pd\n",
    "import matplotlib.pyplot as plt"
   ]
  },
  {
   "cell_type": "code",
   "execution_count": 46,
   "metadata": {},
   "outputs": [],
   "source": [
    "olympics_data = pd.read_csv('data/olympics.csv')"
   ]
  },
  {
   "cell_type": "code",
   "execution_count": 47,
   "metadata": {},
   "outputs": [
    {
     "data": {
      "text/html": [
       "<div>\n",
       "<style scoped>\n",
       "    .dataframe tbody tr th:only-of-type {\n",
       "        vertical-align: middle;\n",
       "    }\n",
       "\n",
       "    .dataframe tbody tr th {\n",
       "        vertical-align: top;\n",
       "    }\n",
       "\n",
       "    .dataframe thead th {\n",
       "        text-align: right;\n",
       "    }\n",
       "</style>\n",
       "<table border=\"1\" class=\"dataframe\">\n",
       "  <thead>\n",
       "    <tr style=\"text-align: right;\">\n",
       "      <th></th>\n",
       "      <th>ID</th>\n",
       "      <th>Name</th>\n",
       "      <th>Sex</th>\n",
       "      <th>Age</th>\n",
       "      <th>Height</th>\n",
       "      <th>Weight</th>\n",
       "      <th>Country</th>\n",
       "      <th>NOC</th>\n",
       "      <th>Games</th>\n",
       "      <th>Year</th>\n",
       "      <th>Season</th>\n",
       "      <th>City</th>\n",
       "      <th>Sport</th>\n",
       "      <th>Event</th>\n",
       "      <th>Medal</th>\n",
       "      <th>Average Temperature</th>\n",
       "      <th>GDP Per Capita</th>\n",
       "    </tr>\n",
       "  </thead>\n",
       "  <tbody>\n",
       "    <tr>\n",
       "      <th>0</th>\n",
       "      <td>47772</td>\n",
       "      <td>Leszek Hensler</td>\n",
       "      <td>M</td>\n",
       "      <td>24.0</td>\n",
       "      <td>172.0</td>\n",
       "      <td>70.0</td>\n",
       "      <td>Poland</td>\n",
       "      <td>POL</td>\n",
       "      <td>1980 Summer</td>\n",
       "      <td>1980</td>\n",
       "      <td>Summer</td>\n",
       "      <td>Moskva</td>\n",
       "      <td>Hockey</td>\n",
       "      <td>Hockey Men's Hockey</td>\n",
       "      <td>0.0</td>\n",
       "      <td>7.85</td>\n",
       "      <td>17091.859905</td>\n",
       "    </tr>\n",
       "    <tr>\n",
       "      <th>1</th>\n",
       "      <td>130262</td>\n",
       "      <td>Stanisaw Wierzbicki</td>\n",
       "      <td>M</td>\n",
       "      <td>21.0</td>\n",
       "      <td>189.0</td>\n",
       "      <td>87.0</td>\n",
       "      <td>Poland</td>\n",
       "      <td>POL</td>\n",
       "      <td>1980 Summer</td>\n",
       "      <td>1980</td>\n",
       "      <td>Summer</td>\n",
       "      <td>Moskva</td>\n",
       "      <td>Rowing</td>\n",
       "      <td>Rowing Men's Quadruple Sculls</td>\n",
       "      <td>0.0</td>\n",
       "      <td>7.85</td>\n",
       "      <td>17091.859905</td>\n",
       "    </tr>\n",
       "    <tr>\n",
       "      <th>2</th>\n",
       "      <td>130265</td>\n",
       "      <td>Jacek Maria Wierzchowiecki</td>\n",
       "      <td>M</td>\n",
       "      <td>36.0</td>\n",
       "      <td>170.0</td>\n",
       "      <td>68.0</td>\n",
       "      <td>Poland</td>\n",
       "      <td>POL</td>\n",
       "      <td>1980 Summer</td>\n",
       "      <td>1980</td>\n",
       "      <td>Summer</td>\n",
       "      <td>Moskva</td>\n",
       "      <td>Equestrianism</td>\n",
       "      <td>Equestrianism Mixed Three-Day Event, Individual</td>\n",
       "      <td>0.0</td>\n",
       "      <td>7.85</td>\n",
       "      <td>17091.859905</td>\n",
       "    </tr>\n",
       "    <tr>\n",
       "      <th>3</th>\n",
       "      <td>7658</td>\n",
       "      <td>Barbara Bronisawa Baran-Wojnar</td>\n",
       "      <td>F</td>\n",
       "      <td>20.0</td>\n",
       "      <td>168.0</td>\n",
       "      <td>55.0</td>\n",
       "      <td>Poland</td>\n",
       "      <td>POL</td>\n",
       "      <td>1980 Summer</td>\n",
       "      <td>1980</td>\n",
       "      <td>Summer</td>\n",
       "      <td>Moskva</td>\n",
       "      <td>Athletics</td>\n",
       "      <td>Athletics Women's Long Jump</td>\n",
       "      <td>0.0</td>\n",
       "      <td>7.85</td>\n",
       "      <td>17091.859905</td>\n",
       "    </tr>\n",
       "    <tr>\n",
       "      <th>4</th>\n",
       "      <td>114578</td>\n",
       "      <td>Wadysaw Stecyk</td>\n",
       "      <td>M</td>\n",
       "      <td>29.0</td>\n",
       "      <td>156.0</td>\n",
       "      <td>52.0</td>\n",
       "      <td>Poland</td>\n",
       "      <td>POL</td>\n",
       "      <td>1980 Summer</td>\n",
       "      <td>1980</td>\n",
       "      <td>Summer</td>\n",
       "      <td>Moskva</td>\n",
       "      <td>Wrestling</td>\n",
       "      <td>Wrestling Men's Flyweight, Freestyle</td>\n",
       "      <td>2.0</td>\n",
       "      <td>7.85</td>\n",
       "      <td>17091.859905</td>\n",
       "    </tr>\n",
       "  </tbody>\n",
       "</table>\n",
       "</div>"
      ],
      "text/plain": [
       "       ID                            Name Sex   Age  Height  Weight Country  \\\n",
       "0   47772                  Leszek Hensler   M  24.0   172.0    70.0  Poland   \n",
       "1  130262             Stanisaw Wierzbicki   M  21.0   189.0    87.0  Poland   \n",
       "2  130265      Jacek Maria Wierzchowiecki   M  36.0   170.0    68.0  Poland   \n",
       "3    7658  Barbara Bronisawa Baran-Wojnar   F  20.0   168.0    55.0  Poland   \n",
       "4  114578                  Wadysaw Stecyk   M  29.0   156.0    52.0  Poland   \n",
       "\n",
       "   NOC        Games  Year  Season    City          Sport  \\\n",
       "0  POL  1980 Summer  1980  Summer  Moskva         Hockey   \n",
       "1  POL  1980 Summer  1980  Summer  Moskva         Rowing   \n",
       "2  POL  1980 Summer  1980  Summer  Moskva  Equestrianism   \n",
       "3  POL  1980 Summer  1980  Summer  Moskva      Athletics   \n",
       "4  POL  1980 Summer  1980  Summer  Moskva      Wrestling   \n",
       "\n",
       "                                             Event  Medal  \\\n",
       "0                              Hockey Men's Hockey    0.0   \n",
       "1                    Rowing Men's Quadruple Sculls    0.0   \n",
       "2  Equestrianism Mixed Three-Day Event, Individual    0.0   \n",
       "3                      Athletics Women's Long Jump    0.0   \n",
       "4             Wrestling Men's Flyweight, Freestyle    2.0   \n",
       "\n",
       "   Average Temperature  GDP Per Capita  \n",
       "0                 7.85    17091.859905  \n",
       "1                 7.85    17091.859905  \n",
       "2                 7.85    17091.859905  \n",
       "3                 7.85    17091.859905  \n",
       "4                 7.85    17091.859905  "
      ]
     },
     "execution_count": 47,
     "metadata": {},
     "output_type": "execute_result"
    }
   ],
   "source": [
    "olympics_data.head(5)"
   ]
  },
  {
   "cell_type": "markdown",
   "metadata": {},
   "source": [
    "# Impact of Climatic conditions in Summer Olympics\n",
    "\n",
    "## Climatic impact on Medalists  - Summer Olympics"
   ]
  },
  {
   "cell_type": "code",
   "execution_count": 48,
   "metadata": {},
   "outputs": [],
   "source": [
    "summer_1980_winners_filter = (olympics_data.Season == 'Summer') & (olympics_data.Year == 1980) & (olympics_data.Medal > 0)\n",
    "summer_1980_winners_data = olympics_data[summer_1980_winners_filter]\n",
    "\n",
    "summer_2016_winners_filter = (olympics_data.Season == 'Summer') & (olympics_data.Year == 2016) & (olympics_data.Medal > 0)\n",
    "summer_2016_winners_data = olympics_data[summer_2016_winners_filter]"
   ]
  },
  {
   "cell_type": "code",
   "execution_count": 49,
   "metadata": {},
   "outputs": [],
   "source": [
    "# aggregation based on average temperature \n",
    "avg_temp_summer_1980_winners_data = summer_1980_winners_data.groupby('Average Temperature', as_index = False).count()\n",
    "\n",
    "# filtering necessary columns and renaming for being self explanatory\n",
    "avg_temp_summer_1980_winners_data = avg_temp_summer_1980_winners_data[['Average Temperature', 'ID']]\n",
    "avg_temp_summer_1980_winners_data.rename(columns = {'ID': 'Medalists-1980'}, inplace = True)\n"
   ]
  },
  {
   "cell_type": "code",
   "execution_count": 50,
   "metadata": {},
   "outputs": [],
   "source": [
    "# aggregation based on average temperature \n",
    "avg_temp_summer_2016_winners_data = summer_2016_winners_data.groupby('Average Temperature', as_index = False).count()\n",
    "\n",
    "# filtering necessary columns and renaming for being self explanatory\n",
    "avg_temp_summer_2016_winners_data = avg_temp_summer_2016_winners_data[['Average Temperature', 'ID']]\n",
    "avg_temp_summer_2016_winners_data.rename(columns = {'ID': 'Medalists-2016'}, inplace = True)"
   ]
  },
  {
   "cell_type": "markdown",
   "metadata": {},
   "source": [
    "## Climatic impact on Participants - Summer Olympics"
   ]
  },
  {
   "cell_type": "code",
   "execution_count": 51,
   "metadata": {},
   "outputs": [],
   "source": [
    "summer_1980_participants_filter = (olympics_data.Season == 'Summer') & (olympics_data.Year == 1980)\n",
    "summer_1980_participants_data = olympics_data[summer_1980_participants_filter]\n",
    "\n",
    "summer_2016_participants_filter = (olympics_data.Season == 'Summer') & (olympics_data.Year == 2016) \n",
    "summer_2016_participants_data = olympics_data[summer_2016_participants_filter]"
   ]
  },
  {
   "cell_type": "code",
   "execution_count": 52,
   "metadata": {},
   "outputs": [],
   "source": [
    "# aggregation based on average temperature \n",
    "avg_temp_summer_1980_participants_data = summer_1980_participants_data.groupby('Average Temperature', as_index = False).count()\n",
    "\n",
    "# filtering necessary columns and renaming for being self explanatory\n",
    "avg_temp_summer_1980_participants_data = avg_temp_summer_1980_participants_data[['Average Temperature', 'ID']]\n",
    "avg_temp_summer_1980_participants_data.rename(columns = {'ID': 'Participants-1980'}, inplace = True)"
   ]
  },
  {
   "cell_type": "code",
   "execution_count": 53,
   "metadata": {},
   "outputs": [],
   "source": [
    "# aggregation based on average temperature \n",
    "avg_temp_summer_2016_participants_data = summer_2016_participants_data.groupby('Average Temperature', as_index = False).count()\n",
    "\n",
    "# filtering necessary columns and renaming for being self explanatory\n",
    "avg_temp_summer_2016_participants_data = avg_temp_summer_2016_participants_data[['Average Temperature', 'ID']]\n",
    "avg_temp_summer_2016_participants_data.rename(columns = {'ID': 'Participants-2016'}, inplace = True)"
   ]
  },
  {
   "cell_type": "markdown",
   "metadata": {},
   "source": [
    "## Plotting graphs for Participants and Medalists"
   ]
  },
  {
   "cell_type": "code",
   "execution_count": 54,
   "metadata": {},
   "outputs": [
    {
     "data": {
      "text/plain": [
       "<matplotlib.legend.Legend at 0x7f2ab1478f98>"
      ]
     },
     "execution_count": 54,
     "metadata": {},
     "output_type": "execute_result"
    },
    {
     "data": {
      "image/png": "[encoded data removed]",
      "text/plain": [
       "<Figure size 432x288 with 2 Axes>"
      ]
     },
     "metadata": {
      "needs_background": "light"
     },
     "output_type": "display_data"
    }
   ],
   "source": [
    "plt.subplot(1,2,1)\n",
    "plt.plot('Average Temperature', 'Participants-1980', data = avg_temp_summer_1980_participants_data)\n",
    "plt.plot('Average Temperature', 'Participants-2016', data = avg_temp_summer_2016_participants_data)\n",
    "plt.title('Climatic impact in winning medals - Summer Olympics')\n",
    "plt.legend()\n",
    "\n",
    "plt.subplot(1,2,2)\n",
    "plt.plot('Average Temperature', 'Medalists-1980', data = avg_temp_summer_1980_winners_data)\n",
    "plt.plot('Average Temperature', 'Medalists-2016', data = avg_temp_summer_2016_winners_data)\n",
    "plt.legend()"
   ]
  },
  {
   "cell_type": "markdown",
   "metadata": {},
   "source": [
    "## Climatic impact on medalists - Winter Olympics"
   ]
  },
  {
   "cell_type": "code",
   "execution_count": 55,
   "metadata": {},
   "outputs": [],
   "source": [
    "winter_1980_medalists_filter = (olympics_data.Season == 'Winter') & (olympics_data.Year == 1980) & (olympics_data.Medal > 0)\n",
    "winter_1980_medalists_data = olympics_data[winter_1980_medalists_filter]\n",
    "\n",
    "winter_2014_medalists_filter = (olympics_data.Season == 'Winter') & (olympics_data.Year == 2014) & (olympics_data.Medal > 0)\n",
    "winter_2014_medalists_data = olympics_data[winter_2014_medalists_filter]"
   ]
  },
  {
   "cell_type": "code",
   "execution_count": 56,
   "metadata": {},
   "outputs": [],
   "source": [
    "# aggregation based on average temperature \n",
    "avg_temp_winter_1980_medalists_data = winter_1980_medalists_data.groupby('Average Temperature', as_index = False).count()\n",
    "\n",
    "# filtering necessary columns and renaming for being self explanatory\n",
    "avg_temp_winter_1980_medalists_data = avg_temp_winter_1980_medalists_data[['Average Temperature', 'ID']]\n",
    "avg_temp_winter_1980_medalists_data.rename(columns = {'ID': 'Medalists-1980'}, inplace = True)"
   ]
  },
  {
   "cell_type": "code",
   "execution_count": 57,
   "metadata": {},
   "outputs": [],
   "source": [
    "# aggregation based on average temperature \n",
    "avg_temp_winter_2014_medalists_data = winter_2014_medalists_data.groupby('Average Temperature', as_index = False).count()\n",
    "\n",
    "# filtering necessary columns and renaming for being self explanatory\n",
    "avg_temp_winter_2014_medalists_data = avg_temp_winter_2014_medalists_data[['Average Temperature', 'ID']]\n",
    "avg_temp_winter_2014_medalists_data.rename(columns = {'ID': 'Medalists-2014'}, inplace = True)"
   ]
  },
  {
   "cell_type": "markdown",
   "metadata": {},
   "source": [
    "## Climatic impact on participants - Winter Olympics"
   ]
  },
  {
   "cell_type": "code",
   "execution_count": 58,
   "metadata": {},
   "outputs": [],
   "source": [
    "winter_1980_filter = (olympics_data.Season == 'Winter') & (olympics_data.Year == 1980)\n",
    "winter_1980_data = olympics_data[winter_1980_filter]\n",
    "\n",
    "winter_2014_filter = (olympics_data.Season == 'Winter') & (olympics_data.Year == 2014)\n",
    "winter_2014_data = olympics_data[winter_2014_filter]"
   ]
  },
  {
   "cell_type": "code",
   "execution_count": 59,
   "metadata": {},
   "outputs": [],
   "source": [
    "# aggregation based on average temperature \n",
    "avg_temp_winter_1980_data = winter_1980_data.groupby('Average Temperature', as_index = False).count()\n",
    "\n",
    "# filtering necessary columns and renaming for being self explanatory\n",
    "avg_temp_winter_1980_data = avg_temp_winter_1980_data[['Average Temperature', 'ID']]\n",
    "avg_temp_winter_1980_data.rename(columns = {'ID': 'Participants-1980'}, inplace = True)"
   ]
  },
  {
   "cell_type": "code",
   "execution_count": 60,
   "metadata": {},
   "outputs": [],
   "source": [
    "# aggregation based on average temperature \n",
    "avg_temp_winter_2014_data = winter_2014_data.groupby('Average Temperature', as_index = False).count()\n",
    "\n",
    "# filtering necessary columns and renaming for being self explanatory\n",
    "avg_temp_winter_2014_data = avg_temp_winter_2014_data[['Average Temperature', 'ID']]\n",
    "avg_temp_winter_2014_data.rename(columns = {'ID': 'Participants-2014'}, inplace = True)"
   ]
  },
  {
   "cell_type": "code",
   "execution_count": 61,
   "metadata": {},
   "outputs": [
    {
     "data": {
      "text/plain": [
       "<matplotlib.legend.Legend at 0x7f2ab11ade80>"
      ]
     },
     "execution_count": 61,
     "metadata": {},
     "output_type": "execute_result"
    },
    {
     "data": {
      "image/png": "[encoded data removed]",
      "text/plain": [
       "<Figure size 432x288 with 2 Axes>"
      ]
     },
     "metadata": {
      "needs_background": "light"
     },
     "output_type": "display_data"
    }
   ],
   "source": [
    "plt.subplot(1,2,1)\n",
    "plt.plot('Average Temperature', 'Medalists-1980', data = avg_temp_winter_1980_medalists_data)\n",
    "plt.plot('Average Temperature', 'Medalists-2014', data = avg_temp_winter_2014_medalists_data)\n",
    "plt.title('Climatic impact in winning medals - Winner Olympics')\n",
    "plt.legend()\n",
    "\n",
    "plt.subplot(1,2,2)\n",
    "plt.plot('Average Temperature', 'Participants-1980', data = avg_temp_winter_1980_data)\n",
    "plt.plot('Average Temperature', 'Participants-2014', data = avg_temp_winter_2014_data)\n",
    "plt.legend()\n"
   ]
  },
  {
   "cell_type": "code",
   "execution_count": 62,
   "metadata": {},
   "outputs": [
    {
     "data": {
      "text/plain": [
       "Average Temperature    29\n",
       "Medalists-1980         29\n",
       "dtype: int64"
      ]
     },
     "execution_count": 62,
     "metadata": {},
     "output_type": "execute_result"
    }
   ],
   "source": [
    "avg_temp_summer_1980_winners_data.count()"
   ]
  },
  {
   "cell_type": "markdown",
   "metadata": {},
   "source": [
    "# Age impact in winning medals"
   ]
  },
  {
   "cell_type": "markdown",
   "metadata": {},
   "source": [
    "## Age impact in participation"
   ]
  },
  {
   "cell_type": "code",
   "execution_count": 63,
   "metadata": {},
   "outputs": [
    {
     "data": {
      "text/plain": [
       "<matplotlib.axes._subplots.AxesSubplot at 0x7f2ab1186710>"
      ]
     },
     "execution_count": 63,
     "metadata": {},
     "output_type": "execute_result"
    },
    {
     "data": {
      "image/png": "[encoded data removed]",
      "text/plain": [
       "<Figure size 432x288 with 1 Axes>"
      ]
     },
     "metadata": {
      "needs_background": "light"
     },
     "output_type": "display_data"
    }
   ],
   "source": [
    "age_df = olympics_data.Age\n",
    "age_df.hist()"
   ]
  },
  {
   "cell_type": "markdown",
   "metadata": {},
   "source": [
    "## Age impact in winning medals"
   ]
  },
  {
   "cell_type": "code",
   "execution_count": 64,
   "metadata": {},
   "outputs": [
    {
     "data": {
      "text/plain": [
       "<matplotlib.axes._subplots.AxesSubplot at 0x7f2ab07aa2b0>"
      ]
     },
     "execution_count": 64,
     "metadata": {},
     "output_type": "execute_result"
    },
    {
     "data": {
      "image/png": "[encoded data removed]",
      "text/plain": [
       "<Figure size 432x288 with 1 Axes>"
      ]
     },
     "metadata": {
      "needs_background": "light"
     },
     "output_type": "display_data"
    }
   ],
   "source": [
    "winners_data = olympics_data[olympics_data.Medal > 0]\n",
    "winners_data = winners_data.Age\n",
    "winners_data.hist()"
   ]
  },
  {
   "cell_type": "markdown",
   "metadata": {},
   "source": [
    "# Impact of Body Mass Index (BMI)"
   ]
  },
  {
   "cell_type": "code",
   "execution_count": 65,
   "metadata": {},
   "outputs": [],
   "source": [
    "def get_bmi(row):\n",
    "    height_in_metres= row['Height'] * 0.01\n",
    "    return (row['Weight'] / (height_in_metres ** 2))"
   ]
  },
  {
   "cell_type": "markdown",
   "metadata": {},
   "source": [
    "## Impact of BMI on participants"
   ]
  },
  {
   "cell_type": "code",
   "execution_count": 66,
   "metadata": {},
   "outputs": [
    {
     "name": "stderr",
     "output_type": "stream",
     "text": [
      "/home/elavazhagan/anaconda3/lib/python3.7/site-packages/ipykernel_launcher.py:2: SettingWithCopyWarning: \n",
      "A value is trying to be set on a copy of a slice from a DataFrame.\n",
      "Try using .loc[row_indexer,col_indexer] = value instead\n",
      "\n",
      "See the caveats in the documentation: http://pandas.pydata.org/pandas-docs/stable/indexing.html#indexing-view-versus-copy\n",
      "  \n"
     ]
    }
   ],
   "source": [
    "participants_bmi_df = olympics_data[['Height', 'Weight']]\n",
    "participants_bmi_df['bmi'] = participants_bmi_df.apply(lambda row : get_bmi(row), axis = 1)"
   ]
  },
  {
   "cell_type": "markdown",
   "metadata": {},
   "source": [
    "## Impact of BMI on winners"
   ]
  },
  {
   "cell_type": "code",
   "execution_count": 67,
   "metadata": {},
   "outputs": [],
   "source": [
    "medalists_bmi_df = olympics_data[olympics_data.Medal > 0][['Height', 'Weight']]\n",
    "medalists_bmi_df['bmi'] = medalists_bmi_df.apply(lambda row : get_bmi(row), axis = 1)"
   ]
  },
  {
   "cell_type": "code",
   "execution_count": 68,
   "metadata": {},
   "outputs": [
    {
     "data": {
      "text/plain": [
       "<matplotlib.axes._subplots.AxesSubplot at 0x7f2ab07a4fd0>"
      ]
     },
     "execution_count": 68,
     "metadata": {},
     "output_type": "execute_result"
    },
    {
     "data": {
      "image/png": "[encoded data removed]",
      "text/plain": [
       "<Figure size 432x288 with 1 Axes>"
      ]
     },
     "metadata": {
      "needs_background": "light"
     },
     "output_type": "display_data"
    }
   ],
   "source": [
    "participants_bmi_df['bmi'].hist()"
   ]
  },
  {
   "cell_type": "code",
   "execution_count": 69,
   "metadata": {},
   "outputs": [
    {
     "data": {
      "text/plain": [
       "<matplotlib.axes._subplots.AxesSubplot at 0x7f2ab04c2518>"
      ]
     },
     "execution_count": 69,
     "metadata": {},
     "output_type": "execute_result"
    },
    {
     "data": {
      "image/png": "[encoded data removed]",
      "text/plain": [
       "<Figure size 432x288 with 1 Axes>"
      ]
     },
     "metadata": {
      "needs_background": "light"
     },
     "output_type": "display_data"
    }
   ],
   "source": [
    "medalists_bmi_df['bmi'].hist()"
   ]
  }
 ],
 "metadata": {
  "kernelspec": {
   "display_name": "Python 3",
   "language": "python",
   "name": "python3"
  },
  "language_info": {
   "codemirror_mode": {
    "name": "ipython",
    "version": 3
   },
   "file_extension": ".py",
   "mimetype": "text/x-python",
   "name": "python",
   "nbconvert_exporter": "python",
   "pygments_lexer": "ipython3",
   "version": "3.7.2"
  }
 },
 "nbformat": 4,
 "nbformat_minor": 2
}
