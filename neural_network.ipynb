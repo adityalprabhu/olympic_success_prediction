{
 "cells": [
  {
   "cell_type": "code",
   "execution_count": 1,
   "metadata": {},
   "outputs": [],
   "source": [
    "import pandas as pd\n",
    "import numpy as np\n",
    "import scipy as sp\n",
    "import matplotlib.pyplot as plt\n",
    "from sklearn.neural_network import MLPClassifier\n",
    "import numpy as np\n",
    "from sklearn.model_selection import train_test_split\n",
    "import sklearn.metrics\n",
    "from sklearn.model_selection import GridSearchCV\n",
    "from sklearn.model_selection import KFold\n",
    "from sklearn.preprocessing import StandardScaler\n",
    "from sklearn.metrics import classification_report,confusion_matrix\n",
    "from sklearn.metrics import classification_report\n",
    "from sklearn.metrics import precision_score\n",
    "from sklearn.metrics import recall_score\n",
    "from sklearn.metrics import roc_curve\n",
    "from sklearn.metrics import auc\n",
    "from sklearn.metrics import confusion_matrix\n",
    "from sklearn import metrics"
   ]
  },
  {
   "cell_type": "code",
   "execution_count": 2,
   "metadata": {},
   "outputs": [],
   "source": [
    "data = pd.read_table('data/olympics.csv', sep=',', header=0, engine='python')"
   ]
  },
  {
   "cell_type": "code",
   "execution_count": 3,
   "metadata": {},
   "outputs": [],
   "source": [
    "# converting the column sex and season to numerical categories\n",
    "data = data.replace({'Sex' : { 'F' : 0, 'M' : 1}})\n",
    "data = data.replace({'Season' : { 'Summer' : 0, 'Winter' : 1}})"
   ]
  },
  {
   "cell_type": "code",
   "execution_count": 4,
   "metadata": {},
   "outputs": [],
   "source": [
    "#adding the medal column to the end\n",
    "temp = data.pop('Medal')\n",
    "data['Medal']=temp"
   ]
  },
  {
   "cell_type": "code",
   "execution_count": 5,
   "metadata": {},
   "outputs": [
    {
     "data": {
      "text/html": [
       "<div>\n",
       "<style scoped>\n",
       "    .dataframe tbody tr th:only-of-type {\n",
       "        vertical-align: middle;\n",
       "    }\n",
       "\n",
       "    .dataframe tbody tr th {\n",
       "        vertical-align: top;\n",
       "    }\n",
       "\n",
       "    .dataframe thead th {\n",
       "        text-align: right;\n",
       "    }\n",
       "</style>\n",
       "<table border=\"1\" class=\"dataframe\">\n",
       "  <thead>\n",
       "    <tr style=\"text-align: right;\">\n",
       "      <th></th>\n",
       "      <th>Name</th>\n",
       "      <th>Sex</th>\n",
       "      <th>Age</th>\n",
       "      <th>Height</th>\n",
       "      <th>Weight</th>\n",
       "      <th>Country</th>\n",
       "      <th>Year</th>\n",
       "      <th>Season</th>\n",
       "      <th>Sport</th>\n",
       "      <th>Event</th>\n",
       "      <th>Average Temperature</th>\n",
       "      <th>GDP Per Capita</th>\n",
       "      <th>Medal</th>\n",
       "    </tr>\n",
       "  </thead>\n",
       "  <tbody>\n",
       "    <tr>\n",
       "      <th>0</th>\n",
       "      <td>Leszek Hensler</td>\n",
       "      <td>1</td>\n",
       "      <td>24.0</td>\n",
       "      <td>172.0</td>\n",
       "      <td>70.0</td>\n",
       "      <td>Poland</td>\n",
       "      <td>1980</td>\n",
       "      <td>0</td>\n",
       "      <td>Hockey</td>\n",
       "      <td>Hockey Men's Hockey</td>\n",
       "      <td>7.85</td>\n",
       "      <td>17091.859905</td>\n",
       "      <td>0.0</td>\n",
       "    </tr>\n",
       "    <tr>\n",
       "      <th>1</th>\n",
       "      <td>Stanisaw Wierzbicki</td>\n",
       "      <td>1</td>\n",
       "      <td>21.0</td>\n",
       "      <td>189.0</td>\n",
       "      <td>87.0</td>\n",
       "      <td>Poland</td>\n",
       "      <td>1980</td>\n",
       "      <td>0</td>\n",
       "      <td>Rowing</td>\n",
       "      <td>Rowing Men's Quadruple Sculls</td>\n",
       "      <td>7.85</td>\n",
       "      <td>17091.859905</td>\n",
       "      <td>0.0</td>\n",
       "    </tr>\n",
       "    <tr>\n",
       "      <th>2</th>\n",
       "      <td>Jacek Maria Wierzchowiecki</td>\n",
       "      <td>1</td>\n",
       "      <td>36.0</td>\n",
       "      <td>170.0</td>\n",
       "      <td>68.0</td>\n",
       "      <td>Poland</td>\n",
       "      <td>1980</td>\n",
       "      <td>0</td>\n",
       "      <td>Equestrianism</td>\n",
       "      <td>Equestrianism Mixed Three-Day Event, Individual</td>\n",
       "      <td>7.85</td>\n",
       "      <td>17091.859905</td>\n",
       "      <td>0.0</td>\n",
       "    </tr>\n",
       "    <tr>\n",
       "      <th>3</th>\n",
       "      <td>Barbara Bronisawa Baran-Wojnar</td>\n",
       "      <td>0</td>\n",
       "      <td>20.0</td>\n",
       "      <td>168.0</td>\n",
       "      <td>55.0</td>\n",
       "      <td>Poland</td>\n",
       "      <td>1980</td>\n",
       "      <td>0</td>\n",
       "      <td>Athletics</td>\n",
       "      <td>Athletics Women's Long Jump</td>\n",
       "      <td>7.85</td>\n",
       "      <td>17091.859905</td>\n",
       "      <td>0.0</td>\n",
       "    </tr>\n",
       "    <tr>\n",
       "      <th>4</th>\n",
       "      <td>Wadysaw Stecyk</td>\n",
       "      <td>1</td>\n",
       "      <td>29.0</td>\n",
       "      <td>156.0</td>\n",
       "      <td>52.0</td>\n",
       "      <td>Poland</td>\n",
       "      <td>1980</td>\n",
       "      <td>0</td>\n",
       "      <td>Wrestling</td>\n",
       "      <td>Wrestling Men's Flyweight, Freestyle</td>\n",
       "      <td>7.85</td>\n",
       "      <td>17091.859905</td>\n",
       "      <td>2.0</td>\n",
       "    </tr>\n",
       "  </tbody>\n",
       "</table>\n",
       "</div>"
      ],
      "text/plain": [
       "                             Name  Sex   Age  Height  Weight Country  Year  \\\n",
       "0                  Leszek Hensler    1  24.0   172.0    70.0  Poland  1980   \n",
       "1             Stanisaw Wierzbicki    1  21.0   189.0    87.0  Poland  1980   \n",
       "2      Jacek Maria Wierzchowiecki    1  36.0   170.0    68.0  Poland  1980   \n",
       "3  Barbara Bronisawa Baran-Wojnar    0  20.0   168.0    55.0  Poland  1980   \n",
       "4                  Wadysaw Stecyk    1  29.0   156.0    52.0  Poland  1980   \n",
       "\n",
       "   Season          Sport                                            Event  \\\n",
       "0       0         Hockey                              Hockey Men's Hockey   \n",
       "1       0         Rowing                    Rowing Men's Quadruple Sculls   \n",
       "2       0  Equestrianism  Equestrianism Mixed Three-Day Event, Individual   \n",
       "3       0      Athletics                      Athletics Women's Long Jump   \n",
       "4       0      Wrestling             Wrestling Men's Flyweight, Freestyle   \n",
       "\n",
       "   Average Temperature  GDP Per Capita  Medal  \n",
       "0                 7.85    17091.859905    0.0  \n",
       "1                 7.85    17091.859905    0.0  \n",
       "2                 7.85    17091.859905    0.0  \n",
       "3                 7.85    17091.859905    0.0  \n",
       "4                 7.85    17091.859905    2.0  "
      ]
     },
     "execution_count": 5,
     "metadata": {},
     "output_type": "execute_result"
    }
   ],
   "source": [
    "data.head()"
   ]
  },
  {
   "cell_type": "code",
   "execution_count": 6,
   "metadata": {},
   "outputs": [],
   "source": [
    "sports = data['Sport'].unique()"
   ]
  },
  {
   "cell_type": "code",
   "execution_count": 7,
   "metadata": {},
   "outputs": [],
   "source": [
    "sport_label = dict(zip(sports, range(len(sports))))"
   ]
  },
  {
   "cell_type": "code",
   "execution_count": 8,
   "metadata": {},
   "outputs": [],
   "source": [
    "# convert the column sport to numerical categorical data\n",
    "data['Sport'] = [sport_label[s] for s in data['Sport']]"
   ]
  },
  {
   "cell_type": "code",
   "execution_count": 9,
   "metadata": {},
   "outputs": [
    {
     "data": {
      "text/html": [
       "<div>\n",
       "<style scoped>\n",
       "    .dataframe tbody tr th:only-of-type {\n",
       "        vertical-align: middle;\n",
       "    }\n",
       "\n",
       "    .dataframe tbody tr th {\n",
       "        vertical-align: top;\n",
       "    }\n",
       "\n",
       "    .dataframe thead th {\n",
       "        text-align: right;\n",
       "    }\n",
       "</style>\n",
       "<table border=\"1\" class=\"dataframe\">\n",
       "  <thead>\n",
       "    <tr style=\"text-align: right;\">\n",
       "      <th></th>\n",
       "      <th>Name</th>\n",
       "      <th>Sex</th>\n",
       "      <th>Age</th>\n",
       "      <th>Height</th>\n",
       "      <th>Weight</th>\n",
       "      <th>Country</th>\n",
       "      <th>Year</th>\n",
       "      <th>Season</th>\n",
       "      <th>Sport</th>\n",
       "      <th>Event</th>\n",
       "      <th>Average Temperature</th>\n",
       "      <th>GDP Per Capita</th>\n",
       "      <th>Medal</th>\n",
       "    </tr>\n",
       "  </thead>\n",
       "  <tbody>\n",
       "    <tr>\n",
       "      <th>0</th>\n",
       "      <td>Leszek Hensler</td>\n",
       "      <td>1</td>\n",
       "      <td>24.0</td>\n",
       "      <td>172.0</td>\n",
       "      <td>70.0</td>\n",
       "      <td>Poland</td>\n",
       "      <td>1980</td>\n",
       "      <td>0</td>\n",
       "      <td>0</td>\n",
       "      <td>Hockey Men's Hockey</td>\n",
       "      <td>7.85</td>\n",
       "      <td>17091.859905</td>\n",
       "      <td>0.0</td>\n",
       "    </tr>\n",
       "    <tr>\n",
       "      <th>1</th>\n",
       "      <td>Stanisaw Wierzbicki</td>\n",
       "      <td>1</td>\n",
       "      <td>21.0</td>\n",
       "      <td>189.0</td>\n",
       "      <td>87.0</td>\n",
       "      <td>Poland</td>\n",
       "      <td>1980</td>\n",
       "      <td>0</td>\n",
       "      <td>1</td>\n",
       "      <td>Rowing Men's Quadruple Sculls</td>\n",
       "      <td>7.85</td>\n",
       "      <td>17091.859905</td>\n",
       "      <td>0.0</td>\n",
       "    </tr>\n",
       "    <tr>\n",
       "      <th>2</th>\n",
       "      <td>Jacek Maria Wierzchowiecki</td>\n",
       "      <td>1</td>\n",
       "      <td>36.0</td>\n",
       "      <td>170.0</td>\n",
       "      <td>68.0</td>\n",
       "      <td>Poland</td>\n",
       "      <td>1980</td>\n",
       "      <td>0</td>\n",
       "      <td>2</td>\n",
       "      <td>Equestrianism Mixed Three-Day Event, Individual</td>\n",
       "      <td>7.85</td>\n",
       "      <td>17091.859905</td>\n",
       "      <td>0.0</td>\n",
       "    </tr>\n",
       "    <tr>\n",
       "      <th>3</th>\n",
       "      <td>Barbara Bronisawa Baran-Wojnar</td>\n",
       "      <td>0</td>\n",
       "      <td>20.0</td>\n",
       "      <td>168.0</td>\n",
       "      <td>55.0</td>\n",
       "      <td>Poland</td>\n",
       "      <td>1980</td>\n",
       "      <td>0</td>\n",
       "      <td>3</td>\n",
       "      <td>Athletics Women's Long Jump</td>\n",
       "      <td>7.85</td>\n",
       "      <td>17091.859905</td>\n",
       "      <td>0.0</td>\n",
       "    </tr>\n",
       "    <tr>\n",
       "      <th>4</th>\n",
       "      <td>Wadysaw Stecyk</td>\n",
       "      <td>1</td>\n",
       "      <td>29.0</td>\n",
       "      <td>156.0</td>\n",
       "      <td>52.0</td>\n",
       "      <td>Poland</td>\n",
       "      <td>1980</td>\n",
       "      <td>0</td>\n",
       "      <td>4</td>\n",
       "      <td>Wrestling Men's Flyweight, Freestyle</td>\n",
       "      <td>7.85</td>\n",
       "      <td>17091.859905</td>\n",
       "      <td>2.0</td>\n",
       "    </tr>\n",
       "  </tbody>\n",
       "</table>\n",
       "</div>"
      ],
      "text/plain": [
       "                             Name  Sex   Age  Height  Weight Country  Year  \\\n",
       "0                  Leszek Hensler    1  24.0   172.0    70.0  Poland  1980   \n",
       "1             Stanisaw Wierzbicki    1  21.0   189.0    87.0  Poland  1980   \n",
       "2      Jacek Maria Wierzchowiecki    1  36.0   170.0    68.0  Poland  1980   \n",
       "3  Barbara Bronisawa Baran-Wojnar    0  20.0   168.0    55.0  Poland  1980   \n",
       "4                  Wadysaw Stecyk    1  29.0   156.0    52.0  Poland  1980   \n",
       "\n",
       "   Season  Sport                                            Event  \\\n",
       "0       0      0                              Hockey Men's Hockey   \n",
       "1       0      1                    Rowing Men's Quadruple Sculls   \n",
       "2       0      2  Equestrianism Mixed Three-Day Event, Individual   \n",
       "3       0      3                      Athletics Women's Long Jump   \n",
       "4       0      4             Wrestling Men's Flyweight, Freestyle   \n",
       "\n",
       "   Average Temperature  GDP Per Capita  Medal  \n",
       "0                 7.85    17091.859905    0.0  \n",
       "1                 7.85    17091.859905    0.0  \n",
       "2                 7.85    17091.859905    0.0  \n",
       "3                 7.85    17091.859905    0.0  \n",
       "4                 7.85    17091.859905    2.0  "
      ]
     },
     "execution_count": 9,
     "metadata": {},
     "output_type": "execute_result"
    }
   ],
   "source": [
    "data.head()"
   ]
  },
  {
   "cell_type": "code",
   "execution_count": 10,
   "metadata": {},
   "outputs": [],
   "source": [
    "olympic_feature_vector = data.to_csv (r'data/olympics_fv.csv', index = None, header=True) "
   ]
  },
  {
   "cell_type": "code",
   "execution_count": 11,
   "metadata": {},
   "outputs": [],
   "source": [
    "scaler = StandardScaler()"
   ]
  },
  {
   "cell_type": "code",
   "execution_count": 12,
   "metadata": {},
   "outputs": [],
   "source": [
    "y = data.pop('Medal')"
   ]
  },
  {
   "cell_type": "code",
   "execution_count": 13,
   "metadata": {},
   "outputs": [],
   "source": [
    "Y = y.values"
   ]
  },
  {
   "cell_type": "code",
   "execution_count": 14,
   "metadata": {},
   "outputs": [
    {
     "data": {
      "text/plain": [
       "array([0., 0., 0., ..., 0., 0., 0.])"
      ]
     },
     "execution_count": 14,
     "metadata": {},
     "output_type": "execute_result"
    }
   ],
   "source": [
    "Y"
   ]
  },
  {
   "cell_type": "code",
   "execution_count": 15,
   "metadata": {},
   "outputs": [],
   "source": [
    "X = data.copy()"
   ]
  },
  {
   "cell_type": "code",
   "execution_count": 16,
   "metadata": {},
   "outputs": [
    {
     "name": "stdout",
     "output_type": "stream",
     "text": [
      "Removing unnecessary attribues\n"
     ]
    }
   ],
   "source": [
    "#removing attributes that aren't required for the model\n",
    "X.pop('Name')\n",
    "X.pop('Country')\n",
    "X.pop('Event')\n",
    "print(\"Removing unnecessary attribues\")"
   ]
  },
  {
   "cell_type": "code",
   "execution_count": 17,
   "metadata": {},
   "outputs": [
    {
     "data": {
      "text/html": [
       "<div>\n",
       "<style scoped>\n",
       "    .dataframe tbody tr th:only-of-type {\n",
       "        vertical-align: middle;\n",
       "    }\n",
       "\n",
       "    .dataframe tbody tr th {\n",
       "        vertical-align: top;\n",
       "    }\n",
       "\n",
       "    .dataframe thead th {\n",
       "        text-align: right;\n",
       "    }\n",
       "</style>\n",
       "<table border=\"1\" class=\"dataframe\">\n",
       "  <thead>\n",
       "    <tr style=\"text-align: right;\">\n",
       "      <th></th>\n",
       "      <th>Sex</th>\n",
       "      <th>Age</th>\n",
       "      <th>Height</th>\n",
       "      <th>Weight</th>\n",
       "      <th>Year</th>\n",
       "      <th>Season</th>\n",
       "      <th>Sport</th>\n",
       "      <th>Average Temperature</th>\n",
       "      <th>GDP Per Capita</th>\n",
       "    </tr>\n",
       "  </thead>\n",
       "  <tbody>\n",
       "    <tr>\n",
       "      <th>0</th>\n",
       "      <td>1</td>\n",
       "      <td>24.0</td>\n",
       "      <td>172.0</td>\n",
       "      <td>70.0</td>\n",
       "      <td>1980</td>\n",
       "      <td>0</td>\n",
       "      <td>0</td>\n",
       "      <td>7.85</td>\n",
       "      <td>17091.859905</td>\n",
       "    </tr>\n",
       "    <tr>\n",
       "      <th>1</th>\n",
       "      <td>1</td>\n",
       "      <td>21.0</td>\n",
       "      <td>189.0</td>\n",
       "      <td>87.0</td>\n",
       "      <td>1980</td>\n",
       "      <td>0</td>\n",
       "      <td>1</td>\n",
       "      <td>7.85</td>\n",
       "      <td>17091.859905</td>\n",
       "    </tr>\n",
       "    <tr>\n",
       "      <th>2</th>\n",
       "      <td>1</td>\n",
       "      <td>36.0</td>\n",
       "      <td>170.0</td>\n",
       "      <td>68.0</td>\n",
       "      <td>1980</td>\n",
       "      <td>0</td>\n",
       "      <td>2</td>\n",
       "      <td>7.85</td>\n",
       "      <td>17091.859905</td>\n",
       "    </tr>\n",
       "    <tr>\n",
       "      <th>3</th>\n",
       "      <td>0</td>\n",
       "      <td>20.0</td>\n",
       "      <td>168.0</td>\n",
       "      <td>55.0</td>\n",
       "      <td>1980</td>\n",
       "      <td>0</td>\n",
       "      <td>3</td>\n",
       "      <td>7.85</td>\n",
       "      <td>17091.859905</td>\n",
       "    </tr>\n",
       "    <tr>\n",
       "      <th>4</th>\n",
       "      <td>1</td>\n",
       "      <td>29.0</td>\n",
       "      <td>156.0</td>\n",
       "      <td>52.0</td>\n",
       "      <td>1980</td>\n",
       "      <td>0</td>\n",
       "      <td>4</td>\n",
       "      <td>7.85</td>\n",
       "      <td>17091.859905</td>\n",
       "    </tr>\n",
       "  </tbody>\n",
       "</table>\n",
       "</div>"
      ],
      "text/plain": [
       "   Sex   Age  Height  Weight  Year  Season  Sport  Average Temperature  \\\n",
       "0    1  24.0   172.0    70.0  1980       0      0                 7.85   \n",
       "1    1  21.0   189.0    87.0  1980       0      1                 7.85   \n",
       "2    1  36.0   170.0    68.0  1980       0      2                 7.85   \n",
       "3    0  20.0   168.0    55.0  1980       0      3                 7.85   \n",
       "4    1  29.0   156.0    52.0  1980       0      4                 7.85   \n",
       "\n",
       "   GDP Per Capita  \n",
       "0    17091.859905  \n",
       "1    17091.859905  \n",
       "2    17091.859905  \n",
       "3    17091.859905  \n",
       "4    17091.859905  "
      ]
     },
     "execution_count": 17,
     "metadata": {},
     "output_type": "execute_result"
    }
   ],
   "source": [
    "X.head()"
   ]
  },
  {
   "cell_type": "code",
   "execution_count": null,
   "metadata": {},
   "outputs": [],
   "source": []
  },
  {
   "cell_type": "code",
   "execution_count": 18,
   "metadata": {},
   "outputs": [],
   "source": [
    "# splitting the data into train and test set\n",
    "X_train, X_test, y_train, y_test = train_test_split(X, y)"
   ]
  },
  {
   "cell_type": "code",
   "execution_count": 19,
   "metadata": {},
   "outputs": [
    {
     "name": "stderr",
     "output_type": "stream",
     "text": [
      "/Library/Frameworks/Python.framework/Versions/3.7/lib/python3.7/site-packages/sklearn/preprocessing/data.py:617: DataConversionWarning: Data with input dtype int64, float64 were all converted to float64 by StandardScaler.\n",
      "  return self.partial_fit(X, y)\n"
     ]
    },
    {
     "data": {
      "text/plain": [
       "StandardScaler(copy=True, with_mean=True, with_std=True)"
      ]
     },
     "execution_count": 19,
     "metadata": {},
     "output_type": "execute_result"
    }
   ],
   "source": [
    "# using the scaler to fit on the test data\n",
    "scaler.fit(X)"
   ]
  },
  {
   "cell_type": "code",
   "execution_count": 20,
   "metadata": {},
   "outputs": [
    {
     "name": "stderr",
     "output_type": "stream",
     "text": [
      "/Library/Frameworks/Python.framework/Versions/3.7/lib/python3.7/site-packages/ipykernel_launcher.py:1: DataConversionWarning: Data with input dtype int64, float64 were all converted to float64 by StandardScaler.\n",
      "  \"\"\"Entry point for launching an IPython kernel.\n",
      "/Library/Frameworks/Python.framework/Versions/3.7/lib/python3.7/site-packages/ipykernel_launcher.py:2: DataConversionWarning: Data with input dtype int64, float64 were all converted to float64 by StandardScaler.\n",
      "  \n"
     ]
    }
   ],
   "source": [
    "X_train = scaler.transform(X_train)\n",
    "X_test = scaler.transform(X_test)"
   ]
  },
  {
   "cell_type": "code",
   "execution_count": 21,
   "metadata": {},
   "outputs": [],
   "source": [
    "parameters={\n",
    "            'activation': ['identity', 'logistic', 'tanh', 'relu'],\n",
    "            'hidden_layer_sizes': [\n",
    "             (1,10),(2,10),(3,10),(4,10),(5,10),(6,10),(7,10),(8,10),(9,10),(10,10)\n",
    "             ]\n",
    "        }"
   ]
  },
  {
   "cell_type": "code",
   "execution_count": 22,
   "metadata": {},
   "outputs": [],
   "source": [
    "# %%time\n",
    "# clf = GridSearchCV(estimator=MLPClassifier(max_iter = 500), param_grid=parameters, cv=10, scoring='accuracy')\n",
    "# clf.fit(X, y)\n",
    "# clf.best_params_"
   ]
  },
  {
   "cell_type": "code",
   "execution_count": 23,
   "metadata": {},
   "outputs": [],
   "source": [
    "# clf.best_params_"
   ]
  },
  {
   "cell_type": "code",
   "execution_count": 24,
   "metadata": {},
   "outputs": [],
   "source": [
    "mlp = MLPClassifier(activation='identity', hidden_layer_sizes=(10,10), max_iter=500)"
   ]
  },
  {
   "cell_type": "code",
   "execution_count": 25,
   "metadata": {},
   "outputs": [],
   "source": [
    "from sklearn.model_selection import KFold\n",
    "kf = KFold(n_splits=10)\n",
    "kf.get_n_splits(X)\n",
    "all_accuracy = []"
   ]
  },
  {
   "cell_type": "code",
   "execution_count": 26,
   "metadata": {},
   "outputs": [],
   "source": [
    "KFold(n_splits=10, random_state=None, shuffle=False)\n",
    "for train_index, test_index in kf.split(X):\n",
    "    X_train, X_test = X.iloc[train_index], X.iloc[test_index]\n",
    "    y_train, y_test = y.iloc[train_index], y.iloc[test_index]\n",
    "    mlp.fit(X_train, y_train)\n",
    "    predicted = mlp.predict(X_test)\n",
    "    accuracy = sklearn.metrics.accuracy_score(predicted, y_test)\n",
    "    all_accuracy.append(accuracy)\n",
    "\n",
    "m_a = np.mean(all_accuracy)"
   ]
  },
  {
   "cell_type": "code",
   "execution_count": 27,
   "metadata": {},
   "outputs": [
    {
     "name": "stdout",
     "output_type": "stream",
     "text": [
      "Average Accuracy: 0.8640779936626849\n"
     ]
    }
   ],
   "source": [
    "print(\"Average Accuracy:\", m_a)"
   ]
  },
  {
   "cell_type": "code",
   "execution_count": 29,
   "metadata": {},
   "outputs": [
    {
     "name": "stderr",
     "output_type": "stream",
     "text": [
      "/Library/Frameworks/Python.framework/Versions/3.7/lib/python3.7/site-packages/sklearn/preprocessing/data.py:617: DataConversionWarning: Data with input dtype int64, float64 were all converted to float64 by StandardScaler.\n",
      "  return self.partial_fit(X, y)\n",
      "/Library/Frameworks/Python.framework/Versions/3.7/lib/python3.7/site-packages/ipykernel_launcher.py:4: DataConversionWarning: Data with input dtype int64, float64 were all converted to float64 by StandardScaler.\n",
      "  after removing the cwd from sys.path.\n",
      "/Library/Frameworks/Python.framework/Versions/3.7/lib/python3.7/site-packages/ipykernel_launcher.py:5: DataConversionWarning: Data with input dtype int64, float64 were all converted to float64 by StandardScaler.\n",
      "  \"\"\"\n"
     ]
    }
   ],
   "source": [
    "# using the best found model to get the predictions\n",
    "X_train, X_test, y_train, y_test = train_test_split(X, y)\n",
    "scaler.fit(X)\n",
    "X_train = scaler.transform(X_train)\n",
    "X_test = scaler.transform(X_test)\n",
    "mlp.fit(X_train, y_train) \n",
    "predictions = mlp.predict(X_test)"
   ]
  },
  {
   "cell_type": "code",
   "execution_count": 30,
   "metadata": {},
   "outputs": [
    {
     "name": "stdout",
     "output_type": "stream",
     "text": [
      "Precision score values:  0.7498419233709751\n"
     ]
    },
    {
     "name": "stderr",
     "output_type": "stream",
     "text": [
      "/Library/Frameworks/Python.framework/Versions/3.7/lib/python3.7/site-packages/sklearn/metrics/classification.py:1143: UndefinedMetricWarning: Precision is ill-defined and being set to 0.0 in labels with no predicted samples.\n",
      "  'precision', 'predicted', average, warn_for)\n"
     ]
    }
   ],
   "source": [
    "print(\"Precision score values: \", precision_score(y_test, predictions, average='weighted'))  "
   ]
  },
  {
   "cell_type": "code",
   "execution_count": 31,
   "metadata": {},
   "outputs": [
    {
     "name": "stdout",
     "output_type": "stream",
     "text": [
      "Recall score values:  0.8659341333906264\n"
     ]
    }
   ],
   "source": [
    "print(\"Recall score values: \", recall_score(y_test, predictions, average='weighted'))  "
   ]
  },
  {
   "cell_type": "code",
   "execution_count": 32,
   "metadata": {},
   "outputs": [
    {
     "name": "stdout",
     "output_type": "stream",
     "text": [
      "Classification report: \n",
      "              precision    recall  f1-score   support\n",
      "\n",
      "         0.0       0.87      1.00      0.93     28213\n",
      "         1.0       0.00      0.00      0.00      1390\n",
      "         2.0       0.00      0.00      0.00      1479\n",
      "         3.0       0.00      0.00      0.00      1499\n",
      "\n",
      "   micro avg       0.87      0.87      0.87     32581\n",
      "   macro avg       0.22      0.25      0.23     32581\n",
      "weighted avg       0.75      0.87      0.80     32581\n",
      "\n"
     ]
    },
    {
     "name": "stderr",
     "output_type": "stream",
     "text": [
      "/Library/Frameworks/Python.framework/Versions/3.7/lib/python3.7/site-packages/sklearn/metrics/classification.py:1143: UndefinedMetricWarning: Precision and F-score are ill-defined and being set to 0.0 in labels with no predicted samples.\n",
      "  'precision', 'predicted', average, warn_for)\n"
     ]
    }
   ],
   "source": [
    "print(\"Classification report: \")\n",
    "print(classification_report(y_test, predictions, labels=np.unique(y_test)))"
   ]
  },
  {
   "cell_type": "code",
   "execution_count": null,
   "metadata": {},
   "outputs": [],
   "source": []
  },
  {
   "cell_type": "code",
   "execution_count": null,
   "metadata": {},
   "outputs": [],
   "source": []
  }
 ],
 "metadata": {
  "kernelspec": {
   "display_name": "Python 3",
   "language": "python",
   "name": "python3"
  },
  "language_info": {
   "codemirror_mode": {
    "name": "ipython",
    "version": 3
   },
   "file_extension": ".py",
   "mimetype": "text/x-python",
   "name": "python",
   "nbconvert_exporter": "python",
   "pygments_lexer": "ipython3",
   "version": "3.7.0"
  }
 },
 "nbformat": 4,
 "nbformat_minor": 2
}
